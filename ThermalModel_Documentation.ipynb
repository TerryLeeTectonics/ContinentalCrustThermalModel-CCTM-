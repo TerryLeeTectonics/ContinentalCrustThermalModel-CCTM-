{
 "cells": [
  {
   "cell_type": "markdown",
   "id": "aa57431e-1723-44ab-b836-329fbabb0ffd",
   "metadata": {},
   "source": [
    "## Instruction for running the continental lithopshere thermal model\n",
    "#### Model details please refer to Lee et al., Building a thermal model of the continental lithosphere: Implications for solid Earth processes and beyond"
   ]
  },
  {
   "cell_type": "markdown",
   "id": "6f22fef0-ff07-4afe-8d8a-75eb66cd7f1b",
   "metadata": {},
   "source": [
    "The model package folder 'ThermalModelFunction' includes associated Python-based function, configuration, and input temperature proxies for the case-study model of western US.\n",
    "\n",
    "Input temperature proxies are located in the folder 'Temperature_proxies', including surface heat flow (heat_flow.tif; Mordensky et al., 2023), seismogenic thickness dervied from EQ_catalog_WUS.csv, crustal thickness (Moho_depth.tif; Buehler and Shearer, 2017),  Moho temperature (Moho_T.tif), and its uncertainty datasets (Moho_T_Uncer_.tif; Schutt et al., 2018).\n",
    "\n",
    "'ContinentalThermalModel.py' is the Python-based model function. To import 'ContinentalThermalModel.py' function, please use:\n",
    "\n",
    "#### from ContinentalThermalModel import cltm"
   ]
  },
  {
   "cell_type": "code",
   "execution_count": 1,
   "id": "0d2a2922-4f3b-4d77-bfba-9aacc4bac407",
   "metadata": {},
   "outputs": [],
   "source": [
    "from ContinentalThermalModel import cltm"
   ]
  },
  {
   "cell_type": "markdown",
   "id": "82e1f919-db3c-4ea8-a80f-65d2922969d2",
   "metadata": {},
   "source": [
    "cltm function takes one input argument as a text file (.txt) of thermal model configuration ('ContinentalThermalModel_config.txt'), which is included in this package.\n",
    "\n",
    "To customize the model parameters, please change the values and variables in the configuration file. Please follow the variable type required for each variable (details in the configuration file), such as string, integer, or float.\n",
    "\n",
    "Before running the thermal model, please make sure you have installed all the dependent packages as follows:\n",
    "\n",
    "Numpy: https://numpy.org/install/\n",
    "\n",
    "Pandas: https://pandas.pydata.org/docs/getting_started/install.html\n",
    "\n",
    "Matplotlib.pyplot: https://matplotlib.org/stable/install/index.html\n",
    "\n",
    "gdal: https://gdal.org/en/stable/download.html\n",
    "\n",
    "permetrics: https://permetrics.readthedocs.io/en/latest/pages/quick_start.html\n",
    "\n",
    "tqdm: https://tqdm.github.io/\n",
    "\n",
    "netCDF4: https://unidata.github.io/netcdf4-python/\n",
    "\n",
    "To install gdal, please use:\n",
    "\n",
    "conda install -c conda-forge gdal\n",
    "\n",
    "Otherwise, pip install will be sufficient."
   ]
  },
  {
   "cell_type": "code",
   "execution_count": null,
   "id": "dc4a6439-cd73-4071-bc1f-9ff7a48a0811",
   "metadata": {},
   "outputs": [],
   "source": [
    "pip install numpy\n",
    "pip install pandas\n",
    "pip install matplotlib\n",
    "pip install permetrics==2.0.0\n",
    "pip install tqdm\n",
    "pip install netCDF4"
   ]
  },
  {
   "cell_type": "markdown",
   "id": "08fc421d-7e65-44da-bc39-2ac61ec4c69e",
   "metadata": {},
   "source": [
    "To run the thermal model, please use:\n",
    "\n",
    "#### cltm('ContinentalThermalModel_config.txt')"
   ]
  },
  {
   "cell_type": "code",
   "execution_count": null,
   "id": "3d6f8d3d-8a99-481b-ae3f-16741c77213b",
   "metadata": {},
   "outputs": [],
   "source": [
    "cltm('ContinentalThermalModel_config.txt')"
   ]
  }
 ],
 "metadata": {
  "kernelspec": {
   "display_name": "Python 3 (ipykernel)",
   "language": "python",
   "name": "python3"
  },
  "language_info": {
   "codemirror_mode": {
    "name": "ipython",
    "version": 3
   },
   "file_extension": ".py",
   "mimetype": "text/x-python",
   "name": "python",
   "nbconvert_exporter": "python",
   "pygments_lexer": "ipython3",
   "version": "3.10.16"
  }
 },
 "nbformat": 4,
 "nbformat_minor": 5
}
